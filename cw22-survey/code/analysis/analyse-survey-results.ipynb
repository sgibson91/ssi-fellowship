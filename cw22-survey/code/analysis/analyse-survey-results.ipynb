{
 "cells": [
  {
   "cell_type": "code",
   "execution_count": null,
   "id": "94efe164",
   "metadata": {},
   "outputs": [],
   "source": [
    "import json\n",
    "import os\n",
    "from itertools import cycle, islice\n",
    "from pathlib import Path\n",
    "\n",
    "import matplotlib.pyplot as plt\n",
    "import numpy as np\n",
    "import pandas as pd\n",
    "from ipywidgets import interact"
   ]
  },
  {
   "cell_type": "code",
   "execution_count": null,
   "id": "0af6a5df",
   "metadata": {},
   "outputs": [],
   "source": [
    "def generate_colors(df):\n",
    "    hex_colours = [\"#e66581\", \"#5799c9\", \"#f5a252\", \"#9ebd6e\", \"#e1f0c4\"]\n",
    "    return list(islice(cycle(hex_colours), None, len(df)))"
   ]
  },
  {
   "cell_type": "code",
   "execution_count": null,
   "id": "4b95f0d0",
   "metadata": {},
   "outputs": [],
   "source": [
    "def autolabel(rects, ax):\n",
    "    for rect in rects:\n",
    "        x = rect.get_x() + (rect.get_width() / 2.0)\n",
    "        y = rect.get_height()\n",
    "        ax.annotate(\n",
    "            f\"{y}\",\n",
    "            (x, y),\n",
    "            xytext=(0, 5),\n",
    "            textcoords=\"offset points\",\n",
    "            ha=\"center\",\n",
    "            va=\"bottom\",\n",
    "        )"
   ]
  },
  {
   "cell_type": "code",
   "execution_count": null,
   "id": "ee80327e",
   "metadata": {},
   "outputs": [],
   "source": [
    "def plot_choices_question(data, question, choices, num):\n",
    "    plt.figure(figsize=(12, 8))\n",
    "    hist = data[question].value_counts()\n",
    "\n",
    "    for choice in choices:\n",
    "        if choice not in hist.index:\n",
    "            hist = pd.concat([hist, pd.Series(0, index=[choice])])\n",
    "\n",
    "    ax = hist.plot(kind=\"bar\", color=generate_colors(hist), rot=0)\n",
    "\n",
    "    ax.set_title(f\"Question {num + 1}: {question}\", fontsize=14)\n",
    "    ax.set_yticks([])\n",
    "    ax.spines[\"top\"].set_visible(False)\n",
    "    ax.spines[\"right\"].set_visible(False)\n",
    "    ax.spines[\"left\"].set_visible(False)\n",
    "\n",
    "    autolabel(ax.patches, ax)\n",
    "\n",
    "    plt.show();"
   ]
  },
  {
   "cell_type": "code",
   "execution_count": null,
   "id": "57fb068a",
   "metadata": {},
   "outputs": [],
   "source": [
    "def plot_scales_question(data, question, choices, num):\n",
    "    question_cols = [col for col in data.columns if question in col]\n",
    "    new_series = pd.Series(dtype=float)\n",
    "\n",
    "    for i, col in enumerate(question_cols):\n",
    "        tmp_series = pd.Series(data={choices[i]: data[col].mean()})\n",
    "        new_series = pd.concat([new_series, tmp_series])\n",
    "\n",
    "    plt.figure(figsize=(12, 8))\n",
    "    ax1 = new_series.sort_values(ascending=True).plot(\n",
    "        kind=\"barh\", color=generate_colors(new_series)[::-1]\n",
    "    )\n",
    "\n",
    "    ax1.set_title(f\"Question {num + 1}: {question}\", fontsize=14)\n",
    "    ax1.set_xlim(1, 5)\n",
    "    ax1.set_xticks([])\n",
    "    ax1.set_xlabel(\"\")\n",
    "    ax1.set_ylabel(\"Strongly Disagree\", fontsize=18)\n",
    "    ax1.spines[\"top\"].set_visible(False)\n",
    "    ax1.spines[\"bottom\"].set_visible(False)\n",
    "\n",
    "    ax2 = ax1.twinx()\n",
    "    ax2.set_yticks([])\n",
    "    ax2.set_ylabel(\"Strongly Agree\", fontsize=18)\n",
    "    ax2.spines[\"top\"].set_visible(False)\n",
    "    ax2.spines[\"bottom\"].set_visible(False)\n",
    "\n",
    "    plt.show();"
   ]
  },
  {
   "cell_type": "code",
   "execution_count": null,
   "id": "2f705e94",
   "metadata": {},
   "outputs": [],
   "source": [
    "# Set filepaths\n",
    "ABSOLUTE_HERE = Path(os.getcwd()).parent\n",
    "processed_data_dir = ABSOLUTE_HERE.parent.joinpath(\"data/processed\")\n",
    "data_filepath = processed_data_dir.joinpath(\"survey-responses.csv\")\n",
    "questions_filepath = processed_data_dir.joinpath(\"questions_metadata.json\")"
   ]
  },
  {
   "cell_type": "code",
   "execution_count": null,
   "id": "eedef7ef",
   "metadata": {},
   "outputs": [],
   "source": [
    "# Load datasets\n",
    "with open(questions_filepath) as stream:\n",
    "    question_metadata = json.load(stream)\n",
    "\n",
    "data = pd.read_csv(data_filepath, index_col=\"Voter\")"
   ]
  },
  {
   "cell_type": "code",
   "execution_count": null,
   "id": "6ce6a03b",
   "metadata": {},
   "outputs": [],
   "source": [
    "for i, qmd in enumerate(question_metadata):\n",
    "    question = qmd[\"question\"]\n",
    "    choices = qmd[\"choices\"]\n",
    "    choices = [\n",
    "        \"Other\" if \"Other - please share in the document\" in choice else choice\n",
    "        for choice in choices\n",
    "    ]\n",
    "\n",
    "    if qmd[\"type\"] == \"choices\":\n",
    "        plot_choices_question(data, question, choices, i)\n",
    "    elif qmd[\"type\"] == \"scales\":\n",
    "        plot_scales_question(data, question, choices, i)\n",
    "\n",
    "    print(\"\\n\" * 4)"
   ]
  },
  {
   "cell_type": "code",
   "execution_count": null,
   "id": "a9ce3fcc",
   "metadata": {},
   "outputs": [],
   "source": [
    "# Question 4 - ranking\n",
    "question = question_metadata[3][\"question\"]\n",
    "choices = question_metadata[3][\"choices\"]\n",
    "choices = [\n",
    "    \"Other\" if \"please share in the document\" in choice else choice\n",
    "    for choice in choices\n",
    "]\n",
    "\n",
    "df = pd.DataFrame({})\n",
    "\n",
    "question_cols = [col for col in data.columns if question in col]\n",
    "\n",
    "for i, col in enumerate(question_cols):\n",
    "    counts = data[col].value_counts()\n",
    "    tmp_df = pd.DataFrame({choices[i]: counts.values.tolist()}, index=counts.index)\n",
    "    df = pd.concat([df, tmp_df]).fillna(0).astype(int)\n",
    "\n",
    "df = df.groupby(level=0).sum()\n",
    "\n",
    "for choice in choices:\n",
    "    if choice not in df.columns:\n",
    "        df[choice] = np.zeros(len(df)).astype(int)\n",
    "# df"
   ]
  },
  {
   "cell_type": "code",
   "execution_count": null,
   "id": "981eba16",
   "metadata": {},
   "outputs": [],
   "source": [
    "for i, qmd in enumerate(question_metadata):\n",
    "    print(i + 1, qmd[\"type\"])"
   ]
  },
  {
   "cell_type": "code",
   "execution_count": null,
   "id": "a39ef869",
   "metadata": {},
   "outputs": [],
   "source": []
  }
 ],
 "metadata": {
  "kernelspec": {
   "display_name": "cw22-survey",
   "language": "python",
   "name": "cw22-survey"
  },
  "language_info": {
   "codemirror_mode": {
    "name": "ipython",
    "version": 3
   },
   "file_extension": ".py",
   "mimetype": "text/x-python",
   "name": "python",
   "nbconvert_exporter": "python",
   "pygments_lexer": "ipython3",
   "version": "3.10.4"
  }
 },
 "nbformat": 4,
 "nbformat_minor": 5
}
