{
 "cells": [
  {
   "cell_type": "code",
   "execution_count": null,
   "id": "94efe164",
   "metadata": {},
   "outputs": [],
   "source": [
    "import os\n",
    "import json\n",
    "from pathlib import Path\n",
    "\n",
    "import pandas as pd"
   ]
  },
  {
   "cell_type": "code",
   "execution_count": null,
   "id": "2f705e94",
   "metadata": {},
   "outputs": [],
   "source": [
    "# Set filepaths\n",
    "ABSOLUTE_HERE = Path(os.getcwd()).parent\n",
    "processed_data_dir = ABSOLUTE_HERE.parent.joinpath(\"data/processed\")\n",
    "data_filepath = processed_data_dir.joinpath(\"survey-responses.csv\")\n",
    "questions_filepath = processed_data_dir.joinpath(\"questions_metadata.json\")"
   ]
  },
  {
   "cell_type": "code",
   "execution_count": null,
   "id": "eedef7ef",
   "metadata": {},
   "outputs": [],
   "source": [
    "# Load datasets\n",
    "with open(questions_filepath) as stream:\n",
    "    question_metadata = json.load(stream)\n",
    "\n",
    "data = pd.read_csv(data_filepath, index_col=\"Voter\")"
   ]
  },
  {
   "cell_type": "code",
   "execution_count": null,
   "id": "0cb0ccf4",
   "metadata": {},
   "outputs": [],
   "source": [
    "question = question_metadata[0][\"question\"]"
   ]
  },
  {
   "cell_type": "code",
   "execution_count": null,
   "id": "22297736",
   "metadata": {},
   "outputs": [],
   "source": []
  }
 ],
 "metadata": {
  "kernelspec": {
   "display_name": "cw22-survey",
   "language": "python",
   "name": "cw22-survey"
  },
  "language_info": {
   "codemirror_mode": {
    "name": "ipython",
    "version": 3
   },
   "file_extension": ".py",
   "mimetype": "text/x-python",
   "name": "python",
   "nbconvert_exporter": "python",
   "pygments_lexer": "ipython3",
   "version": "3.10.4"
  }
 },
 "nbformat": 4,
 "nbformat_minor": 5
}
