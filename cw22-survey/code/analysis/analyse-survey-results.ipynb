{
 "cells": [
  {
   "cell_type": "code",
   "execution_count": null,
   "id": "94efe164",
   "metadata": {},
   "outputs": [],
   "source": [
    "import json\n",
    "import os\n",
    "from itertools import cycle, islice\n",
    "from pathlib import Path\n",
    "\n",
    "import numpy as np\n",
    "import pandas as pd"
   ]
  },
  {
   "cell_type": "code",
   "execution_count": null,
   "id": "0af6a5df",
   "metadata": {},
   "outputs": [],
   "source": [
    "def generate_colors(df):\n",
    "    hex_colours = [\"#e66581\", \"#5799c9\", \"#f5a252\", \"#9ebd6e\", \"#e1f0c4\"]\n",
    "    return list(islice(cycle(hex_colours), None, len(df)))"
   ]
  },
  {
   "cell_type": "code",
   "execution_count": null,
   "id": "4b95f0d0",
   "metadata": {},
   "outputs": [],
   "source": [
    "def autolabel(rects, ax):\n",
    "    for rect in rects:\n",
    "        x = rect.get_x() + (rect.get_width() / 2.0)\n",
    "        y = rect.get_height()\n",
    "        ax.annotate(\n",
    "            f\"{y}\",\n",
    "            (x, y),\n",
    "            xytext=(0, 5),\n",
    "            textcoords=\"offset points\",\n",
    "            ha=\"center\",\n",
    "            va=\"bottom\",\n",
    "        )"
   ]
  },
  {
   "cell_type": "code",
   "execution_count": null,
   "id": "2f705e94",
   "metadata": {},
   "outputs": [],
   "source": [
    "# Set filepaths\n",
    "ABSOLUTE_HERE = Path(os.getcwd()).parent\n",
    "processed_data_dir = ABSOLUTE_HERE.parent.joinpath(\"data/processed\")\n",
    "data_filepath = processed_data_dir.joinpath(\"survey-responses.csv\")\n",
    "questions_filepath = processed_data_dir.joinpath(\"questions_metadata.json\")"
   ]
  },
  {
   "cell_type": "code",
   "execution_count": null,
   "id": "eedef7ef",
   "metadata": {},
   "outputs": [],
   "source": [
    "# Load datasets\n",
    "with open(questions_filepath) as stream:\n",
    "    question_metadata = json.load(stream)\n",
    "\n",
    "data = pd.read_csv(data_filepath, index_col=\"Voter\")"
   ]
  },
  {
   "cell_type": "markdown",
   "id": "d951c5c7",
   "metadata": {},
   "source": [
    "### Question 1"
   ]
  },
  {
   "cell_type": "code",
   "execution_count": null,
   "id": "0cb0ccf4",
   "metadata": {},
   "outputs": [],
   "source": [
    "question = question_metadata[0][\"question\"]\n",
    "choices = question_metadata[0][\"choices\"]\n",
    "\n",
    "fig = plt.figure(figsize=(12, 8))\n",
    "hist = data[question].value_counts()\n",
    "\n",
    "for choice in choices:\n",
    "    if choice not in hist.index:\n",
    "        hist = pd.concat([hist, pd.Series(0, index=[choice])])\n",
    "\n",
    "ax = hist.plot(kind=\"bar\", color=generate_colors(hist), rot=0)\n",
    "ax.set_title(question, fontsize=14)\n",
    "ax.spines[\"top\"].set_visible(False)\n",
    "ax.spines[\"right\"].set_visible(False)\n",
    "autolabel(ax.patches, ax)\n",
    "plt.show();"
   ]
  },
  {
   "cell_type": "markdown",
   "id": "2ab3b00a",
   "metadata": {},
   "source": [
    "### Question 2"
   ]
  },
  {
   "cell_type": "code",
   "execution_count": null,
   "id": "dc25b076",
   "metadata": {},
   "outputs": [],
   "source": [
    "question = question_metadata[1][\"question\"]\n",
    "choices = question_metadata[1][\"choices\"]\n",
    "choices = [\"Other\" if \"Other\" in choice else choice for choice in choices]\n",
    "\n",
    "question_cols = [col for col in data.columns if question in col]\n",
    "colors = generate_colors(data[question_cols])\n",
    "rankings = np.arange(1.0, 6.0, 1)\n",
    "new_series = pd.Series(dtype=float)\n",
    "\n",
    "for i, col in enumerate(question_cols):\n",
    "    tmp_series = pd.Series(data={choices[i]: data[col].mean()})\n",
    "    new_series = pd.concat([new_series, tmp_series])\n",
    "\n",
    "fig = plt.figure(figsize=(12, 8))\n",
    "ax = new_series.sort_values(ascending=True).plot(\n",
    "    kind=\"barh\", color=generate_colors(new_series)\n",
    ")\n",
    "ax.set_title(question, fontsize=14)\n",
    "ax.set_xlim(1, 5)\n",
    "ax.set_xticks([])\n",
    "ax.set_xlabel(\"\")\n",
    "ax.spines[\"top\"].set_visible(False)\n",
    "ax.spines[\"bottom\"].set_visible(False);"
   ]
  },
  {
   "cell_type": "code",
   "execution_count": null,
   "id": "981eba16",
   "metadata": {},
   "outputs": [],
   "source": []
  }
 ],
 "metadata": {
  "kernelspec": {
   "display_name": "cw22-survey",
   "language": "python",
   "name": "cw22-survey"
  },
  "language_info": {
   "codemirror_mode": {
    "name": "ipython",
    "version": 3
   },
   "file_extension": ".py",
   "mimetype": "text/x-python",
   "name": "python",
   "nbconvert_exporter": "python",
   "pygments_lexer": "ipython3",
   "version": "3.10.4"
  }
 },
 "nbformat": 4,
 "nbformat_minor": 5
}
